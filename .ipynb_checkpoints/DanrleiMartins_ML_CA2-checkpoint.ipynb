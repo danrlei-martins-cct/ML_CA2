{
 "cells": [
  {
   "attachments": {
    "image.png": {
     "image/png": "[encoded data removed]"
    }
   },
   "cell_type": "markdown",
   "id": "21cf8109",
   "metadata": {},
   "source": [
    "![image.png](attachment:image.png)"
   ]
  },
  {
   "cell_type": "markdown",
   "id": "618779e7",
   "metadata": {},
   "source": [
    "<div style=\"text-align: center;\">\n",
    "    <h2><u>CA2: Machine Learning for AI</u></h1>\n",
    "    <h3>Lecturer: David McQuaid</h3>\n",
    "    <h3>Student Name: Danrlei da Silva Martins</h3>\n",
    "    <h3>Student Number: 2020322</h3>\n",
    "    <h3><a href=\"https://github.com/danrlei-martins-cct/ML_CA2\">GitHub Repository</a></h3>\n",
    "</div>"
   ]
  },
  {
   "cell_type": "markdown",
   "id": "8a329616",
   "metadata": {},
   "source": [
    "***"
   ]
  },
  {
   "cell_type": "markdown",
   "id": "eafc913d",
   "metadata": {},
   "source": [
    "## Assignment Scenario Part I - Neural Networks\n",
    "- You are required to take data stored file “BankRecords.csv”, available on Moodle and process the data into a DataFrame.\n",
    "- You are then required to train a Neural Network to predict the “Income(Thousands’)” of the customers, including tuning the network to achieve the best results.\n",
    "- You must also compare your neural network to a standard ML regressor of your choosing and discuss your findings in the context of the problem at hand."
   ]
  },
  {
   "cell_type": "code",
   "execution_count": 1,
   "id": "4aadb8aa",
   "metadata": {},
   "outputs": [],
   "source": [
    "import pandas as pd"
   ]
  },
  {
   "cell_type": "markdown",
   "id": "55234d02",
   "metadata": {},
   "source": [
    "### 1. Data Understanding"
   ]
  },
  {
   "cell_type": "code",
   "execution_count": 2,
   "id": "1516bad9",
   "metadata": {},
   "outputs": [],
   "source": [
    "# Load dataset\n",
    "df = pd.read_csv(\"BankRecords.csv\")"
   ]
  },
  {
   "cell_type": "code",
   "execution_count": 3,
   "id": "7b4fa043",
   "metadata": {},
   "outputs": [
    {
     "data": {
      "text/plain": [
       "(5000, 14)"
      ]
     },
     "execution_count": 3,
     "metadata": {},
     "output_type": "execute_result"
    }
   ],
   "source": [
    "# Check the shape (rows, columns)\n",
    "df.shape"
   ]
  },
  {
   "cell_type": "code",
   "execution_count": 4,
   "id": "01aa7681",
   "metadata": {},
   "outputs": [
    {
     "data": {
      "text/html": [
       "<div>\n",
       "<style scoped>\n",
       "    .dataframe tbody tr th:only-of-type {\n",
       "        vertical-align: middle;\n",
       "    }\n",
       "\n",
       "    .dataframe tbody tr th {\n",
       "        vertical-align: top;\n",
       "    }\n",
       "\n",
       "    .dataframe thead th {\n",
       "        text-align: right;\n",
       "    }\n",
       "</style>\n",
       "<table border=\"1\" class=\"dataframe\">\n",
       "  <thead>\n",
       "    <tr style=\"text-align: right;\">\n",
       "      <th></th>\n",
       "      <th>ID</th>\n",
       "      <th>Age</th>\n",
       "      <th>Experience(Years)</th>\n",
       "      <th>Income(Thousands's)</th>\n",
       "      <th>Sort Code</th>\n",
       "      <th>Family</th>\n",
       "      <th>Credit Score</th>\n",
       "      <th>Education</th>\n",
       "      <th>Mortgage(Thousands's)</th>\n",
       "      <th>Personal Loan</th>\n",
       "      <th>Securities Account</th>\n",
       "      <th>CD Account</th>\n",
       "      <th>Online Banking</th>\n",
       "      <th>CreditCard</th>\n",
       "    </tr>\n",
       "  </thead>\n",
       "  <tbody>\n",
       "    <tr>\n",
       "      <th>0</th>\n",
       "      <td>1</td>\n",
       "      <td>25</td>\n",
       "      <td>1</td>\n",
       "      <td>49</td>\n",
       "      <td>91107</td>\n",
       "      <td>4</td>\n",
       "      <td>1.6</td>\n",
       "      <td>Diploma</td>\n",
       "      <td>0</td>\n",
       "      <td>No</td>\n",
       "      <td>Yes</td>\n",
       "      <td>No</td>\n",
       "      <td>No</td>\n",
       "      <td>No</td>\n",
       "    </tr>\n",
       "    <tr>\n",
       "      <th>1</th>\n",
       "      <td>2</td>\n",
       "      <td>45</td>\n",
       "      <td>19</td>\n",
       "      <td>34</td>\n",
       "      <td>90089</td>\n",
       "      <td>3</td>\n",
       "      <td>1.5</td>\n",
       "      <td>Diploma</td>\n",
       "      <td>0</td>\n",
       "      <td>No</td>\n",
       "      <td>Yes</td>\n",
       "      <td>No</td>\n",
       "      <td>No</td>\n",
       "      <td>No</td>\n",
       "    </tr>\n",
       "    <tr>\n",
       "      <th>2</th>\n",
       "      <td>3</td>\n",
       "      <td>39</td>\n",
       "      <td>15</td>\n",
       "      <td>11</td>\n",
       "      <td>94720</td>\n",
       "      <td>1</td>\n",
       "      <td>1.0</td>\n",
       "      <td>Diploma</td>\n",
       "      <td>0</td>\n",
       "      <td>No</td>\n",
       "      <td>No</td>\n",
       "      <td>No</td>\n",
       "      <td>No</td>\n",
       "      <td>No</td>\n",
       "    </tr>\n",
       "    <tr>\n",
       "      <th>3</th>\n",
       "      <td>4</td>\n",
       "      <td>35</td>\n",
       "      <td>9</td>\n",
       "      <td>100</td>\n",
       "      <td>94112</td>\n",
       "      <td>1</td>\n",
       "      <td>2.7</td>\n",
       "      <td>Degree</td>\n",
       "      <td>0</td>\n",
       "      <td>No</td>\n",
       "      <td>No</td>\n",
       "      <td>No</td>\n",
       "      <td>No</td>\n",
       "      <td>No</td>\n",
       "    </tr>\n",
       "    <tr>\n",
       "      <th>4</th>\n",
       "      <td>5</td>\n",
       "      <td>35</td>\n",
       "      <td>8</td>\n",
       "      <td>45</td>\n",
       "      <td>91330</td>\n",
       "      <td>4</td>\n",
       "      <td>1.0</td>\n",
       "      <td>Degree</td>\n",
       "      <td>0</td>\n",
       "      <td>No</td>\n",
       "      <td>No</td>\n",
       "      <td>No</td>\n",
       "      <td>No</td>\n",
       "      <td>Yes</td>\n",
       "    </tr>\n",
       "  </tbody>\n",
       "</table>\n",
       "</div>"
      ],
      "text/plain": [
       "   ID  Age  Experience(Years)  Income(Thousands's)  Sort Code  Family  \\\n",
       "0   1   25                  1                   49      91107       4   \n",
       "1   2   45                 19                   34      90089       3   \n",
       "2   3   39                 15                   11      94720       1   \n",
       "3   4   35                  9                  100      94112       1   \n",
       "4   5   35                  8                   45      91330       4   \n",
       "\n",
       "   Credit Score Education  Mortgage(Thousands's) Personal Loan  \\\n",
       "0           1.6   Diploma                      0            No   \n",
       "1           1.5   Diploma                      0            No   \n",
       "2           1.0   Diploma                      0            No   \n",
       "3           2.7    Degree                      0            No   \n",
       "4           1.0    Degree                      0            No   \n",
       "\n",
       "  Securities Account CD Account Online Banking CreditCard  \n",
       "0                Yes         No             No         No  \n",
       "1                Yes         No             No         No  \n",
       "2                 No         No             No         No  \n",
       "3                 No         No             No         No  \n",
       "4                 No         No             No        Yes  "
      ]
     },
     "execution_count": 4,
     "metadata": {},
     "output_type": "execute_result"
    }
   ],
   "source": [
    "# Check first observations\n",
    "df.head()"
   ]
  },
  {
   "cell_type": "code",
   "execution_count": 5,
   "id": "1f2b31a0",
   "metadata": {},
   "outputs": [
    {
     "data": {
      "text/html": [
       "<div>\n",
       "<style scoped>\n",
       "    .dataframe tbody tr th:only-of-type {\n",
       "        vertical-align: middle;\n",
       "    }\n",
       "\n",
       "    .dataframe tbody tr th {\n",
       "        vertical-align: top;\n",
       "    }\n",
       "\n",
       "    .dataframe thead th {\n",
       "        text-align: right;\n",
       "    }\n",
       "</style>\n",
       "<table border=\"1\" class=\"dataframe\">\n",
       "  <thead>\n",
       "    <tr style=\"text-align: right;\">\n",
       "      <th></th>\n",
       "      <th>ID</th>\n",
       "      <th>Age</th>\n",
       "      <th>Experience(Years)</th>\n",
       "      <th>Income(Thousands's)</th>\n",
       "      <th>Sort Code</th>\n",
       "      <th>Family</th>\n",
       "      <th>Credit Score</th>\n",
       "      <th>Mortgage(Thousands's)</th>\n",
       "    </tr>\n",
       "  </thead>\n",
       "  <tbody>\n",
       "    <tr>\n",
       "      <th>count</th>\n",
       "      <td>5000.000000</td>\n",
       "      <td>5000.000000</td>\n",
       "      <td>5000.000000</td>\n",
       "      <td>5000.000000</td>\n",
       "      <td>5000.000000</td>\n",
       "      <td>5000.000000</td>\n",
       "      <td>5000.000000</td>\n",
       "      <td>5000.000000</td>\n",
       "    </tr>\n",
       "    <tr>\n",
       "      <th>mean</th>\n",
       "      <td>2500.500000</td>\n",
       "      <td>45.338400</td>\n",
       "      <td>20.104600</td>\n",
       "      <td>73.774200</td>\n",
       "      <td>93152.503000</td>\n",
       "      <td>2.396400</td>\n",
       "      <td>1.937913</td>\n",
       "      <td>56.498800</td>\n",
       "    </tr>\n",
       "    <tr>\n",
       "      <th>std</th>\n",
       "      <td>1443.520003</td>\n",
       "      <td>11.463166</td>\n",
       "      <td>11.467954</td>\n",
       "      <td>46.033729</td>\n",
       "      <td>2121.852197</td>\n",
       "      <td>1.147663</td>\n",
       "      <td>1.747666</td>\n",
       "      <td>101.713802</td>\n",
       "    </tr>\n",
       "    <tr>\n",
       "      <th>min</th>\n",
       "      <td>1.000000</td>\n",
       "      <td>23.000000</td>\n",
       "      <td>-3.000000</td>\n",
       "      <td>8.000000</td>\n",
       "      <td>9307.000000</td>\n",
       "      <td>1.000000</td>\n",
       "      <td>0.000000</td>\n",
       "      <td>0.000000</td>\n",
       "    </tr>\n",
       "    <tr>\n",
       "      <th>25%</th>\n",
       "      <td>1250.750000</td>\n",
       "      <td>35.000000</td>\n",
       "      <td>10.000000</td>\n",
       "      <td>39.000000</td>\n",
       "      <td>91911.000000</td>\n",
       "      <td>1.000000</td>\n",
       "      <td>0.700000</td>\n",
       "      <td>0.000000</td>\n",
       "    </tr>\n",
       "    <tr>\n",
       "      <th>50%</th>\n",
       "      <td>2500.500000</td>\n",
       "      <td>45.000000</td>\n",
       "      <td>20.000000</td>\n",
       "      <td>64.000000</td>\n",
       "      <td>93437.000000</td>\n",
       "      <td>2.000000</td>\n",
       "      <td>1.500000</td>\n",
       "      <td>0.000000</td>\n",
       "    </tr>\n",
       "    <tr>\n",
       "      <th>75%</th>\n",
       "      <td>3750.250000</td>\n",
       "      <td>55.000000</td>\n",
       "      <td>30.000000</td>\n",
       "      <td>98.000000</td>\n",
       "      <td>94608.000000</td>\n",
       "      <td>3.000000</td>\n",
       "      <td>2.500000</td>\n",
       "      <td>101.000000</td>\n",
       "    </tr>\n",
       "    <tr>\n",
       "      <th>max</th>\n",
       "      <td>5000.000000</td>\n",
       "      <td>67.000000</td>\n",
       "      <td>43.000000</td>\n",
       "      <td>224.000000</td>\n",
       "      <td>96651.000000</td>\n",
       "      <td>4.000000</td>\n",
       "      <td>10.000000</td>\n",
       "      <td>635.000000</td>\n",
       "    </tr>\n",
       "  </tbody>\n",
       "</table>\n",
       "</div>"
      ],
      "text/plain": [
       "                ID          Age  Experience(Years)  Income(Thousands's)  \\\n",
       "count  5000.000000  5000.000000        5000.000000          5000.000000   \n",
       "mean   2500.500000    45.338400          20.104600            73.774200   \n",
       "std    1443.520003    11.463166          11.467954            46.033729   \n",
       "min       1.000000    23.000000          -3.000000             8.000000   \n",
       "25%    1250.750000    35.000000          10.000000            39.000000   \n",
       "50%    2500.500000    45.000000          20.000000            64.000000   \n",
       "75%    3750.250000    55.000000          30.000000            98.000000   \n",
       "max    5000.000000    67.000000          43.000000           224.000000   \n",
       "\n",
       "          Sort Code       Family  Credit Score  Mortgage(Thousands's)  \n",
       "count   5000.000000  5000.000000   5000.000000            5000.000000  \n",
       "mean   93152.503000     2.396400      1.937913              56.498800  \n",
       "std     2121.852197     1.147663      1.747666             101.713802  \n",
       "min     9307.000000     1.000000      0.000000               0.000000  \n",
       "25%    91911.000000     1.000000      0.700000               0.000000  \n",
       "50%    93437.000000     2.000000      1.500000               0.000000  \n",
       "75%    94608.000000     3.000000      2.500000             101.000000  \n",
       "max    96651.000000     4.000000     10.000000             635.000000  "
      ]
     },
     "execution_count": 5,
     "metadata": {},
     "output_type": "execute_result"
    }
   ],
   "source": [
    "# Get summary statistics\n",
    "df.describe()"
   ]
  },
  {
   "cell_type": "code",
   "execution_count": 6,
   "id": "8fd3eb8c",
   "metadata": {},
   "outputs": [
    {
     "data": {
      "text/plain": [
       "ID                       0\n",
       "Age                      0\n",
       "Experience(Years)        0\n",
       "Income(Thousands's)      0\n",
       "Sort Code                0\n",
       "Family                   0\n",
       "Credit Score             0\n",
       "Education                0\n",
       "Mortgage(Thousands's)    0\n",
       "Personal Loan            0\n",
       "Securities Account       0\n",
       "CD Account               0\n",
       "Online Banking           0\n",
       "CreditCard               0\n",
       "dtype: int64"
      ]
     },
     "execution_count": 6,
     "metadata": {},
     "output_type": "execute_result"
    }
   ],
   "source": [
    "# Check for missing values\n",
    "df.isna().sum()"
   ]
  },
  {
   "cell_type": "code",
   "execution_count": 7,
   "id": "7f31cb3e",
   "metadata": {},
   "outputs": [
    {
     "data": {
      "image/png": "[encoded data removed]",
      "text/plain": [
       "<Figure size 1200x800 with 9 Axes>"
      ]
     },
     "metadata": {},
     "output_type": "display_data"
    }
   ],
   "source": [
    "# Display distribution plots\n",
    "df.hist(bins=25, \n",
    "        grid=False, \n",
    "        figsize=(12,8), \n",
    "        color='#86bf91', \n",
    "        zorder=2, \n",
    "        rwidth=0.9);"
   ]
  },
  {
   "cell_type": "markdown",
   "id": "639b89d2",
   "metadata": {},
   "source": [
    "Findings:\n",
    "\n",
    "- **Negative Values**:  The 'Experience(Years)' column contains negative values, which is unexpected. Experience is typically considered a non-negative quantity. This could potentially indicate data entry errors or outliers that need to be addressed during data preparation.\n",
    "- **Data Distribution**:\n",
    "    - Age: The distribution of ages appears to be fairly uniform.\n",
    "    - Income: The income distribution seems to be right-skewed, with most individuals having lower incomes and a few with significantly higher incomes.\n",
    "    - Credit Score: The credit score distribution shows a peak around lower values, with a gradual decrease in frequency as scores increase.\n",
    "    - Mortgage: Most individuals seem to have no mortgage, as indicated by the peak at 0, with a few having higher mortgage amounts, leading to a right-skewed distribution.\n",
    "- **Data Completeness**: There are no missing values in any of the columns, which is a positive aspect indicating that the dataset is relatively clean in terms of missing data."
   ]
  },
  {
   "cell_type": "markdown",
   "id": "3309532a",
   "metadata": {},
   "source": [
    "***"
   ]
  },
  {
   "cell_type": "markdown",
   "id": "7541a1c3",
   "metadata": {},
   "source": [
    "### 2. Data Preparation"
   ]
  },
  {
   "cell_type": "code",
   "execution_count": null,
   "id": "6afc4cc0",
   "metadata": {},
   "outputs": [],
   "source": []
  },
  {
   "cell_type": "markdown",
   "id": "90a8fef8",
   "metadata": {},
   "source": [
    "---"
   ]
  },
  {
   "cell_type": "markdown",
   "id": "ae43afa4",
   "metadata": {},
   "source": [
    "## Assignment Scenario Part II - Semantic Analysis\n",
    "- You are required to source text data from any social media platform on any topic that you choose and perform semantic analysis on the text.\n",
    "- This analysis should provide a visualization of the overall sentiment of your text data , showing the positive, neutral, and negative sentiment expressed.\n",
    "- You will require at least 1000 text observations"
   ]
  },
  {
   "cell_type": "code",
   "execution_count": null,
   "id": "e321e34c",
   "metadata": {},
   "outputs": [],
   "source": []
  },
  {
   "cell_type": "code",
   "execution_count": null,
   "id": "9a8d6870",
   "metadata": {},
   "outputs": [],
   "source": []
  },
  {
   "cell_type": "code",
   "execution_count": null,
   "id": "f5976cf9",
   "metadata": {},
   "outputs": [],
   "source": []
  },
  {
   "cell_type": "code",
   "execution_count": null,
   "id": "e24908cf",
   "metadata": {},
   "outputs": [],
   "source": []
  },
  {
   "cell_type": "code",
   "execution_count": null,
   "id": "de83c89a",
   "metadata": {},
   "outputs": [],
   "source": []
  },
  {
   "cell_type": "code",
   "execution_count": null,
   "id": "1454b385",
   "metadata": {},
   "outputs": [],
   "source": []
  },
  {
   "cell_type": "markdown",
   "id": "4bb1ad17",
   "metadata": {},
   "source": [
    "***"
   ]
  },
  {
   "cell_type": "markdown",
   "id": "ad98e23c",
   "metadata": {},
   "source": [
    "## References"
   ]
  },
  {
   "cell_type": "markdown",
   "id": "8913fece",
   "metadata": {},
   "source": []
  }
 ],
 "metadata": {
  "kernelspec": {
   "display_name": "Python 3 (ipykernel)",
   "language": "python",
   "name": "python3"
  },
  "language_info": {
   "codemirror_mode": {
    "name": "ipython",
    "version": 3
   },
   "file_extension": ".py",
   "mimetype": "text/x-python",
   "name": "python",
   "nbconvert_exporter": "python",
   "pygments_lexer": "ipython3",
   "version": "3.11.5"
  }
 },
 "nbformat": 4,
 "nbformat_minor": 5
}
